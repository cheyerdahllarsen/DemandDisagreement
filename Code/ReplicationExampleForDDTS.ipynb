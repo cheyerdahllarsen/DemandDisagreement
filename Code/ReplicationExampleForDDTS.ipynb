{
 "cells": [
  {
   "cell_type": "markdown",
   "id": "3fbbd642",
   "metadata": {},
   "source": [
    "This code calculates the files that are loaded to create Figure 2 in the paper. Since it is a very computer intensive calculation, the number of paths are lower than what was used to create the files. Also, the original files used GPUs on Google Colab. "
   ]
  },
  {
   "cell_type": "code",
   "execution_count": 1,
   "id": "ba4bf849",
   "metadata": {},
   "outputs": [
    {
     "name": "stderr",
     "output_type": "stream",
     "text": [
      "/Users/christianheyerdahl-larsen/anaconda3/lib/python3.10/site-packages/tqdm/auto.py:22: TqdmWarning: IProgress not found. Please update jupyter and ipywidgets. See https://ipywidgets.readthedocs.io/en/stable/user_install.html\n",
      "  from .autonotebook import tqdm as notebook_tqdm\n"
     ]
    }
   ],
   "source": [
    "import torch\n",
    "import time\n",
    "import numpy as np\n",
    "import matplotlib.pyplot as plt\n",
    "import gc\n",
    "import requests\n",
    "import pandas as pd\n",
    "import io  # Import the io module"
   ]
  },
  {
   "cell_type": "code",
   "execution_count": 2,
   "id": "2e42e221",
   "metadata": {},
   "outputs": [],
   "source": [
    "def getExpectedShortRate(f, l, tau, pars, M, dt, device):\n",
    "    rhoA, rhoB, nu, DEL, kap, lbar, sig_l, muY, sigY = pars\n",
    "\n",
    "    NT = round(tau / dt)  # Number of time steps\n",
    "\n",
    "    # Initialize tensors for all paths under each of the three beliefs\n",
    "    ft = torch.tensor(f, dtype=torch.float32, device=device).repeat(M)\n",
    "    fat = torch.tensor(f, dtype=torch.float32, device=device).repeat(M)\n",
    "    fbt = torch.tensor(f, dtype=torch.float32, device=device).repeat(M)\n",
    "\n",
    "    lt = torch.tensor(l, dtype=torch.float32, device=device).repeat(M)\n",
    "    lat = torch.tensor(l, dtype=torch.float32, device=device).repeat(M)\n",
    "    lbt = torch.tensor(l, dtype=torch.float32, device=device).repeat(M)\n",
    "\n",
    "    # Generate random numbers for all paths and time steps. Make sure to check the change of measure here!\n",
    "    dZ = torch.sqrt(torch.tensor(dt, dtype=torch.float32, device=device)) * torch.randn(NT, M, device=device)\n",
    "    dZa = dZ - torch.ones(NT, M, device=device) * torch.tensor(0.5 * DEL * dt, dtype=torch.float32, device=device)\n",
    "    dZb = dZ + torch.ones(NT, M, device=device) * torch.tensor(0.5 * DEL * dt, dtype=torch.float32, device=device)\n",
    "\n",
    "    rbar = muY - sigY**2  # This should probably be moved outside the loop as a constant\n",
    "\n",
    "    for i in range(NT):\n",
    "        # Under objective\n",
    "        alpt = 1 / (1 + torch.exp(-lt))\n",
    "        phit = ft / (rhoA + nu) + (1 - ft) / (rhoB + nu)\n",
    "        betAt = (rhoA + nu) * phit\n",
    "        betBt = (rhoB + nu) * phit\n",
    "\n",
    "        muft = nu * (alpt * betAt * (1 - ft) - (1 - alpt) * betBt * ft) + (rhoB - rhoA) * ft * (1 - ft) + DEL**2 * (1/2 - ft) * ft * (1 - ft)\n",
    "        sigft = ft * (1 - ft) * DEL\n",
    "        dft = muft * dt + sigft * dZ[i, :]\n",
    "        dlt = kap * (lbar - lt) * dt + sig_l * dZ[i, :]\n",
    "\n",
    "        lt = lt + dlt  # update lt\n",
    "        ft = ft + dft  # update ft\n",
    "        r = rbar + rhoA * ft + rhoB * (1 - ft) + nu * (1 - alpt * betAt - (1 - alpt) * betBt)\n",
    "\n",
    "        # Under agent a\n",
    "        alpt = 1 / (1 + torch.exp(-lat))\n",
    "        phit = fat / (rhoA + nu) + (1 - fat) / (rhoB + nu)\n",
    "        betAt = (rhoA + nu) * phit\n",
    "        betBt = (rhoB + nu) * phit\n",
    "\n",
    "        mufat = nu * (alpt * betAt * (1 - fat) - (1 - alpt) * betBt * fat) + (rhoB - rhoA) * fat * (1 - fat) + DEL**2 * (1/2 - fat) * fat * (1 - fat)\n",
    "        sigfat = fat * (1 - fat) * DEL\n",
    "        dfat = mufat * dt + sigfat * dZa[i, :]\n",
    "        dlat = kap * (lbar - lat) * dt + sig_l * dZa[i, :]\n",
    "\n",
    "        lat = lat + dlat  # update lat\n",
    "        fat = fat + dfat  # update fat\n",
    "        ra = rbar + rhoA * fat + rhoB * (1 - fat) + nu * (1 - alpt * betAt - (1 - alpt) * betBt)\n",
    "\n",
    "        # Under agent b\n",
    "        alpt = 1 / (1 + torch.exp(-lbt))\n",
    "        phit = fbt / (rhoA + nu) + (1 - fbt) / (rhoB + nu)\n",
    "        betAt = (rhoA + nu) * phit\n",
    "        betBt = (rhoB + nu) * phit\n",
    "\n",
    "        mufbt = nu * (alpt * betAt * (1 - fbt) - (1 - alpt) * betBt * fbt) + (rhoB - rhoA) * fbt * (1 - fbt) + DEL**2 * (1/2 - fbt) * fbt * (1 - fbt)\n",
    "        sigfbt = fbt * (1 - fbt) * DEL\n",
    "        dfbt = mufbt * dt + sigfbt * dZb[i, :]\n",
    "        dlbt = kap * (lbar - lbt) * dt + sig_l * dZb[i, :]\n",
    "\n",
    "        lbt = lbt + dlbt  # update lbt\n",
    "        fbt = fbt + dfbt  # update fbt\n",
    "        rb = rbar + rhoA * fbt + rhoB * (1 - fbt) + nu * (1 - alpt * betAt - (1 - alpt) * betBt)\n",
    "\n",
    "        DIS = 0.5 * np.abs(torch.mean(rb).item() - torch.mean(ra).item())\n",
    "\n",
    "    return torch.mean(r).item(), torch.mean(ra).item(), torch.mean(rb).item(), DIS\n"
   ]
  },
  {
   "cell_type": "code",
   "execution_count": 3,
   "id": "65565be6",
   "metadata": {},
   "outputs": [],
   "source": [
    "def simulateTSofDisagreement(f, l, T, tau_values, pars, M, dt, device):\n",
    "    rhoA, rhoB, nu, DEL, kap, lbar, sig_l, muY, sigY = pars\n",
    "\n",
    "    NT = round(T / dt)  # Number of time steps\n",
    "\n",
    "    # Initialize variables\n",
    "    ft = f\n",
    "    lt = l\n",
    "    dZ = np.sqrt(dt) * np.random.randn(NT, len(tau_values))\n",
    "    DIS_values = np.zeros((NT, len(tau_values)))\n",
    "    rbar = muY - sigY**2  # Moved outside the loop\n",
    "\n",
    "    for i in range(NT):\n",
    "        for j in range(len(tau_values)):\n",
    "            r, ra, rb, current_DIS = getExpectedShortRate(ft, lt, tau_values[j], pars, M, dt, device)\n",
    "            DIS_values[i, j] = current_DIS\n",
    "\n",
    "        # Update ft and lt\n",
    "        alpt = 1 / (1 + np.exp(-lt))\n",
    "        phit = ft / (rhoA + nu) + (1 - ft) / (rhoB + nu)\n",
    "        betAt = (rhoA + nu) * phit\n",
    "        betBt = (rhoB + nu) * phit\n",
    "\n",
    "        muft = nu * (alpt * betAt * (1 - ft) - (1 - alpt) * betBt * ft) + (rhoB - rhoA) * ft * (1 - ft) + DEL**2 * (1/2 - ft) * ft * (1 - ft)\n",
    "        sigft = ft * (1 - ft) * DEL\n",
    "        dft = muft * dt + sigft * dZ[i, j]\n",
    "        dlt = kap * (lbar - lt) * dt + sig_l * dZ[i, j]\n",
    "\n",
    "        lt = lt + dlt  # update lt\n",
    "        ft = ft + dft  # update ft\n",
    "\n",
    "    return DIS_values"
   ]
  },
  {
   "cell_type": "code",
   "execution_count": 4,
   "id": "9230b444",
   "metadata": {},
   "outputs": [],
   "source": [
    "def getShortRate(f, alp, tau, pars):\n",
    "  rhoA, rhoB, nu, DEL, kap, lbar, sig_l, muY, sigY = pars\n",
    "  phiA = 1/(rhoA + nu)\n",
    "  phiB = 1/(rhoB + nu)\n",
    "  phi = f*phiA + (1-f)*phiB\n",
    "  betA = (rhoA+nu)*phi\n",
    "  betB = (rhoB+nu)*phi\n",
    "  bet = alp*betA+(1-alp)*betB\n",
    "  rhot = f*rhoA+(1-f)*rhoB\n",
    "  r = rhot + muY-sigY**2 + nu*(1-bet)\n",
    "  return r"
   ]
  },
  {
   "cell_type": "markdown",
   "id": "19967a45",
   "metadata": {},
   "source": [
    "We need to invert the disagreement. Hence, we define a function based on a simple method."
   ]
  },
  {
   "cell_type": "code",
   "execution_count": 5,
   "id": "f8ae787e",
   "metadata": {},
   "outputs": [],
   "source": [
    "def find_closest_f(target_DIS,target_r, alp, tau, pars, M, dt, device, num_points=20):\n",
    "    \"\"\"\n",
    "    Find the value of f in the interval [0, 1] for which the DIS output of\n",
    "    getExpectedShortRate is closest to the target DIS value.\n",
    "\n",
    "    :param target_DIS: The target DIS value to match.\n",
    "    :param alp, tau, pars, M, dt, device: Parameters to be passed to getExpectedShortRate.\n",
    "    :param num_points: Number of points to sample in the interval [0, 1].\n",
    "    :return: The value of f closest to the target DIS.\n",
    "    \"\"\"\n",
    "\n",
    "    # Generate a range of f values to test\n",
    "    f_values = np.linspace(0, 1, num_points)\n",
    "\n",
    "    # Initialize variables to store the best results\n",
    "    closest_f = None\n",
    "    closest_DIS_diff = float('inf')\n",
    "\n",
    "    # Loop over all possible f values\n",
    "    for f in f_values:\n",
    "        _, _, _, DIS = getExpectedShortRate(f, alp, tau, pars, M, dt, device)\n",
    "        r = getShortRate(f, alp, tau, pars)\n",
    "        # Calculate the difference from the target DIS\n",
    "        DIS_diff = abs(DIS - target_DIS)+0.2*abs(target_r-r)\n",
    "\n",
    "        # Update the closest values if this is the best so far\n",
    "        if DIS_diff < closest_DIS_diff:\n",
    "            closest_f = f\n",
    "            closest_DIS_diff = DIS_diff\n",
    "\n",
    "    return closest_f"
   ]
  },
  {
   "cell_type": "code",
   "execution_count": 6,
   "id": "0d5ff8bf",
   "metadata": {},
   "outputs": [
    {
     "name": "stdout",
     "output_type": "stream",
     "text": [
      "Device: cpu\n"
     ]
    }
   ],
   "source": [
    "device = torch.device(\"cuda\" if torch.cuda.is_available() else \"cpu\")\n",
    "# device = torch.device(\"cpu\")\n",
    "print(\"Device:\", device)"
   ]
  },
  {
   "cell_type": "code",
   "execution_count": 7,
   "id": "ecf8ce3f",
   "metadata": {},
   "outputs": [],
   "source": [
    "DEL = 0.8 \n",
    "rhoA = -0.015\n",
    "rhoB = 0.025\n",
    "nu = 0.02\n",
    "kap = 0.01\n",
    "lbar = 0\n",
    "sig_l = 0.1\n",
    "muY = 0.02\n",
    "sigY = 0.033\n",
    "pars = [rhoA , rhoB, nu, DEL, kap, lbar, sig_l, muY, sigY]"
   ]
  },
  {
   "cell_type": "code",
   "execution_count": 8,
   "id": "231bca78",
   "metadata": {},
   "outputs": [],
   "source": [
    "dt = 1 / 12\n",
    "M = 1000  # Number of paths.  Originally set to 50000"
   ]
  },
  {
   "cell_type": "code",
   "execution_count": 9,
   "id": "d0f9865e",
   "metadata": {},
   "outputs": [
    {
     "name": "stdout",
     "output_type": "stream",
     "text": [
      "expected interest rate true: -0.010117655619978905\n",
      "expected interest rate agent a: -0.0025341687723994255\n",
      "expected interest rate agent b: -0.01753207854926586\n",
      "expected interest rate agent b: 0.007498954888433218\n"
     ]
    }
   ],
   "source": [
    "#A little test\n",
    "f = 0.5\n",
    "alp = 0.5\n",
    "tau = 1\n",
    "l = -np.log(1/alp-1)\n",
    "r, ra, rb, DIS = getExpectedShortRate(f, l, tau, pars, M, dt, device)\n",
    "print(f\"expected interest rate true: {r}\")\n",
    "print(f\"expected interest rate agent a: {ra}\")\n",
    "print(f\"expected interest rate agent b: {rb}\")\n",
    "print(f\"expected interest rate agent b: {DIS}\")\n"
   ]
  },
  {
   "cell_type": "code",
   "execution_count": 10,
   "id": "d5a345e0",
   "metadata": {},
   "outputs": [
    {
     "data": {
      "image/png": "[encoded data removed]",
      "text/plain": [
       "<Figure size 640x480 with 1 Axes>"
      ]
     },
     "metadata": {},
     "output_type": "display_data"
    }
   ],
   "source": [
    "# Define the tau values in months\n",
    "tau_values = np.array([3/12, 6/12, 9/12, 1])  # Corresponding to 3m, 6m, 9m, 1 year\n",
    "months = ['3m', '6m', '9m', '1y']  # Labels for the x-axis\n",
    "\n",
    "parsNew = pars\n",
    "r_values = []\n",
    "ra_values = []\n",
    "rb_values = []\n",
    "DIS02_values = []\n",
    "DIS04_values = []\n",
    "DIS06_values = []\n",
    "DIS08_values = []\n",
    "\n",
    "alp = 0.5\n",
    "f02 = 0.333\n",
    "f04 = 0.317\n",
    "f06 = 0.297\n",
    "f08 = 0.290\n",
    "\n",
    "for tau in tau_values:\n",
    "    # For DEL=0.2\n",
    "    parsNew[3] = 0.2\n",
    "    r, ra, rb, DIS = getExpectedShortRate(f02, alp, tau, parsNew, M, dt, device)\n",
    "    r_values.append(r)\n",
    "    ra_values.append(ra)\n",
    "    rb_values.append(rb)\n",
    "    DIS = np.abs(ra - rb) / 2\n",
    "    DIS02_values.append(DIS)\n",
    "\n",
    "    # For DEL=0.4\n",
    "    parsNew[3] = 0.4\n",
    "    r, ra, rb, DIS = getExpectedShortRate(f04, alp, tau, parsNew, M, dt, device)\n",
    "    r_values.append(r)\n",
    "    ra_values.append(ra)\n",
    "    rb_values.append(rb)\n",
    "    DIS = np.abs(ra - rb) / 2\n",
    "    DIS04_values.append(DIS)\n",
    "\n",
    "    # For DEL=0.6\n",
    "    parsNew[3] = 0.6\n",
    "    r, ra, rb, DIS = getExpectedShortRate(f06, alp, tau, parsNew, M, dt, device)\n",
    "    r_values.append(r)\n",
    "    ra_values.append(ra)\n",
    "    rb_values.append(rb)\n",
    "    DIS = np.abs(ra - rb) / 2\n",
    "    DIS06_values.append(DIS)\n",
    "\n",
    "    # For DEL=0.8\n",
    "    parsNew[3] = 0.8\n",
    "    r, ra, rb, DIS = getExpectedShortRate(f08, alp, tau, parsNew, M, dt, device)\n",
    "    r_values.append(r)\n",
    "    ra_values.append(ra)\n",
    "    rb_values.append(rb)\n",
    "    DIS = np.abs(ra - rb) / 2\n",
    "    DIS08_values.append(DIS)\n",
    "\n",
    "# Plotting the results\n",
    "plt.plot(months, DIS02_values, label=f'$\\Delta = 0.2$')\n",
    "plt.plot(months, DIS04_values, label=f'$\\Delta = 0.4$')\n",
    "plt.plot(months, DIS06_values, label=f'$\\Delta = 0.6$')\n",
    "plt.plot(months, DIS08_values, label=f'$\\Delta = 0.8$')\n",
    "\n",
    "plt.xlabel('Forecast horizon')\n",
    "plt.ylabel('y')\n",
    "plt.title('Demand Disagreement')\n",
    "plt.legend()\n",
    "plt.show()\n"
   ]
  },
  {
   "cell_type": "code",
   "execution_count": 11,
   "id": "54cc78af",
   "metadata": {},
   "outputs": [],
   "source": [
    "tau_values = np.array([3/12, 6/12, 9/12, 1])\n",
    "parsNew = pars\n",
    "T = 100 #Original was T=1000 \n",
    "f02 = 0.333\n",
    "f04 = 0.317\n",
    "f06 = 0.297\n",
    "f08 = 0.290\n",
    "alp = 0.5\n",
    "l = -np.log(1/alp-1)\n",
    "parsNew[3] = 0.2\n",
    "DIS02 = simulateTSofDisagreement(f02, l, T, tau_values, parsNew, M, dt, device)\n",
    "parsNew[3] = 0.4\n",
    "DIS04 = simulateTSofDisagreement(f04, l, T, tau_values, parsNew, M, dt, device)\n",
    "parsNew[3] = 0.6\n",
    "DIS06 = simulateTSofDisagreement(f06, l, T, tau_values, parsNew, M, dt, device)\n",
    "parsNew[3] = 0.8\n",
    "DIS08 = simulateTSofDisagreement(f08, l, T, tau_values, parsNew, M, dt, device)"
   ]
  },
  {
   "cell_type": "code",
   "execution_count": 12,
   "id": "776ee019",
   "metadata": {},
   "outputs": [],
   "source": [
    "# Save the arrays to .npy files\n",
    "np.save('Data/Model Disagreement/DIS02V2_SHORTTEST.npy', DIS02)\n",
    "np.save('Data/Model Disagreement/DIS04V2_SHORTTEST.npy', DIS04)\n",
    "np.save('Data/Model Disagreement/DIS06V2_SHORTTEST.npy', DIS06)\n",
    "np.save('Data/Model Disagreement/DIS08V2_SHORTTEST.npy', DIS08)"
   ]
  }
 ],
 "metadata": {
  "kernelspec": {
   "display_name": "base",
   "language": "python",
   "name": "python3"
  },
  "language_info": {
   "codemirror_mode": {
    "name": "ipython",
    "version": 3
   },
   "file_extension": ".py",
   "mimetype": "text/x-python",
   "name": "python",
   "nbconvert_exporter": "python",
   "pygments_lexer": "ipython3",
   "version": "3.10.9"
  }
 },
 "nbformat": 4,
 "nbformat_minor": 5
}
